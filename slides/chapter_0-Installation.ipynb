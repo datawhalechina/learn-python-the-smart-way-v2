{
 "cells": [
  {
   "cell_type": "markdown",
   "id": "68e6c596",
   "metadata": {
    "slideshow": {
     "slide_type": "slide"
    }
   },
   "source": [
    "# 聪明办法学 Python 第二版\n",
    "## Chapter 0 安装 Installation\n",
    "---\n",
    "聪明办法学 Python 教学团队\n",
    "\n",
    "<p>learn.python.the.smart.way@gmail.com</p>"
   ]
  },
  {
   "cell_type": "markdown",
   "id": "80efd992",
   "metadata": {
    "slideshow": {
     "slide_type": "slide"
    }
   },
   "source": [
    "# 2025 年我们值得用更好的方式运行 Python 代码"
   ]
  },
  {
   "cell_type": "markdown",
   "id": "efe9e17a",
   "metadata": {
    "slideshow": {
     "slide_type": "fragment"
    }
   },
   "source": [
    "P2S 团队正在转向 Cloud First 战略，构建以云端 + AI 为基础的学习者 Python 初体验。"
   ]
  },
  {
   "cell_type": "markdown",
   "id": "77648956",
   "metadata": {
    "cell_style": "split",
    "slideshow": {
     "slide_type": "subslide"
    }
   },
   "source": [
    "# AI 滞销，帮帮我们！\n",
    "\n",
    "现在，拿起手机扫描屏幕右侧二维码，助力 P2S 项目持续发展！\n",
    "\n",
    "注册 Marscode：\n",
    "\n",
    "https://www.marscode.cn/home?utm_source=school&utm_medium=datawhalelearn&utm_campaign=camp2"
   ]
  },
  {
   "cell_type": "markdown",
   "id": "1d0b918c",
   "metadata": {
    "cell_style": "split"
   },
   "source": [
    "![](../resources/slides/chap0/pic/marscode_invite_link.png)"
   ]
  },
  {
   "cell_type": "markdown",
   "id": "818ad065",
   "metadata": {
    "cell_style": "center",
    "slideshow": {
     "slide_type": "slide"
    }
   },
   "source": [
    "# 把大象关进云端环境分几步？三步！\n",
    "\n",
    "> 彻底配好 Python 环境！难怪大神代码写得比我快？\n",
    ">\n",
    "> 三步教会你云端环境配置超神级小妙招，安排！"
   ]
  },
  {
   "cell_type": "markdown",
   "id": "63e66b07",
   "metadata": {
    "cell_style": "center",
    "slideshow": {
     "slide_type": "subslide"
    }
   },
   "source": [
    "## 第一步：打开云端 IDE\n",
    "\n",
    "![](../resources/slides/chap0/pic/marscode_1.png)"
   ]
  },
  {
   "cell_type": "markdown",
   "id": "22d89551",
   "metadata": {
    "cell_style": "split",
    "slideshow": {
     "slide_type": "subslide"
    }
   },
   "source": [
    "## 第二步：导入 Git 项目\n",
    "\n",
    "![](../resources/slides/chap0/pic/marscode_2.png)"
   ]
  },
  {
   "cell_type": "markdown",
   "id": "e69a6318",
   "metadata": {
    "cell_style": "split",
    "slideshow": {
     "slide_type": "fragment"
    }
   },
   "source": [
    "![](../resources/slides/chap0/pic/marscode_3.png)"
   ]
  },
  {
   "cell_type": "markdown",
   "id": "9205bc0f",
   "metadata": {
    "slideshow": {
     "slide_type": "subslide"
    }
   },
   "source": [
    "## 第三步：安装 Jupyter\n",
    "![](../resources/slides/chap0/pic/marscode_4.png)"
   ]
  },
  {
   "cell_type": "markdown",
   "id": "cdfda475",
   "metadata": {
    "slideshow": {
     "slide_type": "subslide"
    }
   },
   "source": [
    "<h1 style=\"text-align: center;\">搞定！</h1>"
   ]
  },
  {
   "cell_type": "markdown",
   "id": "5092e910",
   "metadata": {
    "slideshow": {
     "slide_type": "slide"
    }
   },
   "source": [
    "# 本地安装 Python 环境"
   ]
  },
  {
   "cell_type": "markdown",
   "id": "99ed3412",
   "metadata": {
    "slideshow": {
     "slide_type": "fragment"
    }
   },
   "source": [
    "> 我已经会用云端 IDE 了，我还需要安装本地环境吗？"
   ]
  },
  {
   "cell_type": "markdown",
   "id": "f14d2d78",
   "metadata": {
    "slideshow": {
     "slide_type": "fragment"
    }
   },
   "source": [
    "- 在本课程部分，我们可以用云端 IDE 完成所有需求\n",
    "- 多学点知识总是没错的，以后总会有用得上的时候"
   ]
  },
  {
   "cell_type": "markdown",
   "id": "18abc8a8",
   "metadata": {
    "slideshow": {
     "slide_type": "slide"
    }
   },
   "source": [
    "# 前置准备：流畅访问 Github.com\n",
    "\n",
    "- 下载 Watt Toolkit (Steam++)：<https://steampp.net/>\n",
    "- 点击“网络加速”，勾选“Github”\n",
    "- 打开“加速设置”，点击“安装证书”\n",
    "- 点击“代理设置”，关闭“启用 DoH”\n",
    "- (Bug) 在**安装好 Git 后**，运行：`git config --global http.sslBackend schannel`"
   ]
  },
  {
   "cell_type": "markdown",
   "id": "e3b9b6a8",
   "metadata": {
    "slideshow": {
     "slide_type": "slide"
    }
   },
   "source": [
    "# 安装清单\n",
    "\n",
    "> 所有安装均仅需默认配置即可\n",
    "\n",
    "- Miniconda: <https://docs.conda.io/en/latest/miniconda.html>\n",
    ">(Beta) 我们建议同学们迁移软件： Miniconda => Miniforge, conda => mamba\n",
    ">\n",
    ">Miniforge 下载地址：<https://github.com/conda-forge/miniforge/releases>\n",
    ">\n",
    ">Github 加速：<https://github.moeyy.xyz>\n",
    "- Visual Studio Code: <https://code.visualstudio.com>\n",
    "- Git: <https://git-scm.com/download>"
   ]
  },
  {
   "cell_type": "markdown",
   "id": "e3eb91af",
   "metadata": {
    "slideshow": {
     "slide_type": "slide"
    }
   },
   "source": [
    "# Miniconda 安装配置"
   ]
  },
  {
   "cell_type": "markdown",
   "id": "4585b342",
   "metadata": {
    "slideshow": {
     "slide_type": "subslide"
    }
   },
   "source": [
    "## 下载 Miniconda\n",
    "\n",
    "Miniconda 下载地址：<https://repo.anaconda.com/miniconda/>\n",
    "\n",
    "最新版 Miniconda For Windows 下载链接：\n",
    "\n",
    "<https://repo.anaconda.com/miniconda/Miniconda3-latest-Windows-x86_64.exe>"
   ]
  },
  {
   "cell_type": "markdown",
   "id": "d9358602",
   "metadata": {
    "cell_style": "center",
    "slideshow": {
     "slide_type": "subslide"
    }
   },
   "source": [
    "## Miniconda For Windows 安装配置推荐\n",
    "\n",
    "- Just Me (recommended)\n",
    "- Clear the package cache upon completion"
   ]
  },
  {
   "cell_type": "markdown",
   "id": "963b4fd9",
   "metadata": {
    "cell_style": "split"
   },
   "source": [
    "![](../resources/slides/chap0/pic/miniconda_installation_1.png)"
   ]
  },
  {
   "cell_type": "markdown",
   "id": "5d2168a7",
   "metadata": {
    "cell_style": "split"
   },
   "source": [
    "![](../resources/slides/chap0/pic/miniconda_installation_2.png)"
   ]
  },
  {
   "cell_type": "markdown",
   "id": "0312d547",
   "metadata": {
    "slideshow": {
     "slide_type": "subslide"
    }
   },
   "source": [
    "# 修改 Powershell 执行策略（可选）\n",
    "\n",
    "**所有人**都需要在 **Anaconda Powershell Prompt** 中输入：\n",
    "```bash\n",
    "conda init\n",
    "```\n",
    "\n",
    "在 **Visual Studio Code Terminal** 中出现 **出现“在此系统上禁止运行脚本”** 的情况下需要执行本操作\n",
    "\n",
    "![](../resources/slides/chap0/pic/powershell_error.png)\n",
    "\n",
    "在`开始`图标**右键单击**，选择 `Windows PowerShell（管理员）`\n",
    "\n",
    "先输入下面的内容，并回车：\n",
    "```powershell\n",
    "Set-ExecutionPolicy -Scope CurrentUser RemoteSigned\n",
    "```\n",
    "出现如下内容后，输入：`A`，回车：\n",
    "\n",
    "![](../resources/slides/chap0/pic/powershell.png)"
   ]
  },
  {
   "cell_type": "markdown",
   "id": "50b897f3",
   "metadata": {
    "cell_style": "split",
    "slideshow": {
     "slide_type": "slide"
    }
   },
   "source": [
    "# 更换镜像源\n",
    "\n",
    "- Pip 换源\n",
    "- Conda 换源\n",
    "\n",
    "> 加快国内资源下载速度"
   ]
  },
  {
   "cell_type": "markdown",
   "id": "5ec52c36",
   "metadata": {
    "cell_style": "split",
    "slideshow": {
     "slide_type": "fragment"
    }
   },
   "source": [
    "## 校园网联合镜像站\n",
    "<https://help.mirrors.cernet.edu.cn/>\n",
    "\n",
    "- pypi\n",
    "- anaconda\n",
    "- anaconda-extra"
   ]
  },
  {
   "cell_type": "markdown",
   "id": "02919362",
   "metadata": {
    "slideshow": {
     "slide_type": "subslide"
    }
   },
   "source": [
    "## Conda 更换镜像源\n",
    "\n",
    "清华大学开源软件镜像站：<https://help.mirrors.cernet.edu.cn/anaconda/>\n",
    "\n",
    "南方科技大学开源软件镜像站：<https://help.mirrors.cernet.edu.cn/anaconda-extra/>\n",
    "\n",
    "在镜像站复制文本后，在 **Visual Studio Code Terminal** 中输入：\n",
    "\n",
    "```bash\n",
    "code .condarc # 注意有个小点 \".\" 在 \"condarc\" 的前面\n",
    "```\n",
    "\n",
    "粘贴刚刚复制的文本，保存文件后关闭\n",
    "\n",
    "最后在 **Visual Studio Code Terminal** 中输入：\n",
    "\n",
    "```bash\n",
    "conda clean -i # 清除源缓存，以启用镜像源\n",
    "```"
   ]
  },
  {
   "cell_type": "markdown",
   "id": "0de0a2be",
   "metadata": {
    "slideshow": {
     "slide_type": "subslide"
    }
   },
   "source": [
    "# PyPI 更换镜像源\n",
    " \n",
    "校园网联合镜像站：<https://help.mirrors.cernet.edu.cn/pypi/>\n",
    "\n",
    "复制文本后，在 **Visual Studio Code Terminal** 中粘贴运行即可：\n",
    "\n",
    "```bash\n",
    "# 设置 PyPI 镜像源\n",
    "pip config set global.index-url https://mirrors.cernet.edu.cn/pypi/web/simple \n",
    "```"
   ]
  },
  {
   "cell_type": "markdown",
   "id": "054f6cbc",
   "metadata": {
    "slideshow": {
     "slide_type": "slide"
    }
   },
   "source": [
    "# 课程环境搭建"
   ]
  },
  {
   "cell_type": "markdown",
   "id": "d8028b9c",
   "metadata": {
    "slideshow": {
     "slide_type": "subslide"
    }
   },
   "source": [
    "## 创建与激活 Conda 环境\n",
    "\n",
    "创建 Conda 环境\n",
    "\n",
    "```bash\n",
    "conda create -n p2s python=3.12 # conda 环境创建\n",
    "```\n",
    "\n",
    "其中 ***-n*** 代表创建的环境名称，这里是 ***p2s***，并指定 ***Python 版本为 3.12***\n",
    "\n",
    "激活刚刚创建的 Conda 环境：\n",
    "\n",
    "```bash\n",
    "conda activate p2s # 激活 p2s 环境，不同环境的 Python 包版本不同！\n",
    "```\n",
    "\n",
    "如果需要删除某个 Conda 环境：\n",
    "\n",
    "```bash\n",
    "conda deactivate # 退出该环境\n",
    "conda remove -n p2s --all # 删除整个环境\n",
    "```"
   ]
  },
  {
   "cell_type": "markdown",
   "id": "c0298c33",
   "metadata": {
    "slideshow": {
     "slide_type": "slide"
    }
   },
   "source": [
    "# Git 下载课程资料\n",
    "\n",
    "Github Repo: <https://github.com/datawhalechina/learn-python-the-smart-way-v2>\n",
    "\n",
    "Gitee Repo: <https://gitee.com/anine09/learn-python-the-smart-way-v2>\n",
    "\n",
    "在 **Visual Studio Code Terminal** 中，使用 `cd` 命令，进入到指定文件夹，例如：\n",
    "\n",
    "```bash\n",
    "cd c:\\coding\\ # 注意 cd 与指定文件夹路径之间有个空格\n",
    "```\n",
    "\n",
    "继续输入：\n",
    "\n",
    "```bash\n",
    "git clone https://github.com/datawhalechina/learn-python-the-smart-way-v2\n",
    "# 可以继续在后面添加 --depth=1 参数，代表仅下载最新版本的代码文件\n",
    "```"
   ]
  },
  {
   "cell_type": "markdown",
   "id": "4cac85fe",
   "metadata": {
    "cell_style": "split",
    "slideshow": {
     "slide_type": "subslide"
    }
   },
   "source": [
    "# Pip 安装与展示\n",
    "\n",
    "Pip 安装课程所需第三方库\n",
    "\n",
    "```bash\n",
    "pip install jupyter # julia python R\n",
    "```\n",
    "\n",
    "在指定文件夹输入：\n",
    "\n",
    "```bash\n",
    "jupyter lab # 会自动跳转到浏览器\n",
    "```\n",
    "\n",
    "结束学习时使用：\n",
    "\n",
    "```bash\n",
    "Ctrl + C # 关闭 Jupyter Notebook 服务\n",
    "```"
   ]
  },
  {
   "cell_type": "markdown",
   "id": "708d553e",
   "metadata": {
    "cell_style": "split",
    "slideshow": {
     "slide_type": "fragment"
    }
   },
   "source": [
    "## VSCode 推荐插件清单\n",
    "\n",
    "- Python\n",
    "- Jupyter\n",
    "- Office Viewer(Markdown Editor)\n",
    "- Black Formatter\n",
    "- Chinese (Simplified) (简体中文) Language Pack for Visual Studio Code"
   ]
  },
  {
   "cell_type": "markdown",
   "id": "a67f04ed",
   "metadata": {
    "cell_style": "split",
    "slideshow": {
     "slide_type": "fragment"
    }
   },
   "source": [
    "# 用户名包含中文\n",
    "\n",
    "1. 网络上有相关解决方案，请自行尝试\n",
    "2. 不要犹豫，马上使用云端环境\n",
    "3. 遇到麻烦请参考课程主页中的 **[答疑交流](https://datawhalechina.github.io/learn-python-the-smart-way-v2/Question/question/)** 版块，并及时向教学团队或助教寻求帮助：<learn.python.the.smart.way@gmail.com>"
   ]
  },
  {
   "cell_type": "markdown",
   "id": "66e539c6",
   "metadata": {
    "slideshow": {
     "slide_type": "slide"
    }
   },
   "source": [
    "# Thank You ;-)\n",
    "Datawhale 聪明办法学 Python 教学团队出品\n",
    "\n",
    "## 关注我们\n",
    "Datawhale 是一个专注 AI 领域的开源组织，以“for the learner，和学习者一起成长”为愿景，构建对学习者最有价值的开源学习社区。关注我们，一起学习成长。\n",
    "<div align=center><img src=\"../resources/datawhale_wechat_qrcode.jpeg\" width = \"250\" height = \"270\"></div>"
   ]
  }
 ],
 "metadata": {
  "celltoolbar": "幻灯片",
  "kernelspec": {
   "display_name": "p2s",
   "language": "python",
   "name": "python3"
  },
  "language_info": {
   "codemirror_mode": {
    "name": "ipython",
    "version": 3
   },
   "file_extension": ".py",
   "mimetype": "text/x-python",
   "name": "python",
   "nbconvert_exporter": "python",
   "pygments_lexer": "ipython3",
   "version": "3.10.16"
  },
  "rise": {
   "overlay": "<div class='my-top-right'><img height=40px src='../resources/datawhale_logo.png'/></div><div class='my-top-left'></div>"
  },
  "toc": {
   "base_numbering": 1,
   "nav_menu": {},
   "number_sections": true,
   "sideBar": true,
   "skip_h1_title": false,
   "title_cell": "Table of Contents",
   "title_sidebar": "Contents",
   "toc_cell": false,
   "toc_position": {},
   "toc_section_display": true,
   "toc_window_display": false
  },
  "varInspector": {
   "cols": {
    "lenName": 16,
    "lenType": 16,
    "lenVar": 40
   },
   "kernels_config": {
    "python": {
     "delete_cmd_postfix": "",
     "delete_cmd_prefix": "del ",
     "library": "var_list.py",
     "varRefreshCmd": "print(var_dic_list())"
    },
    "r": {
     "delete_cmd_postfix": ") ",
     "delete_cmd_prefix": "rm(",
     "library": "var_list.r",
     "varRefreshCmd": "cat(var_dic_list()) "
    }
   },
   "types_to_exclude": [
    "module",
    "function",
    "builtin_function_or_method",
    "instance",
    "_Feature"
   ],
   "window_display": false
  }
 },
 "nbformat": 4,
 "nbformat_minor": 5
}
